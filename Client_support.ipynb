{
 "cells": [
  {
   "cell_type": "markdown",
   "metadata": {},
   "source": [
    "Este notebook implementa un chatbot de atención al cliente utilizando un modelo open-source de Hugging Face, como GPT-J o LLaMA. El chatbot puede responder preguntas comunes sobre pedidos, productos y políticas de la empresa."
   ]
  },
  {
   "cell_type": "code",
   "execution_count": 3,
   "metadata": {},
   "outputs": [],
   "source": [
    "from transformers import AutoModelForCausalLM, AutoTokenizer\n",
    "import torch\n",
    "import json"
   ]
  },
  {
   "cell_type": "code",
   "execution_count": null,
   "metadata": {},
   "outputs": [
    {
     "data": {
      "application/vnd.jupyter.widget-view+json": {
       "model_id": "92e4e84b41d84bb3b512a12accd91fe5",
       "version_major": 2,
       "version_minor": 0
      },
      "text/plain": [
       "config.json:   0%|          | 0.00/930 [00:00<?, ?B/s]"
      ]
     },
     "metadata": {},
     "output_type": "display_data"
    },
    {
     "name": "stderr",
     "output_type": "stream",
     "text": [
      "c:\\Users\\alexa\\anaconda3\\Lib\\site-packages\\huggingface_hub\\file_download.py:147: UserWarning: `huggingface_hub` cache-system uses symlinks by default to efficiently store duplicated files but your machine does not support them in C:\\Users\\alexa\\.cache\\huggingface\\hub\\models--EleutherAI--gpt-j-6B. Caching files will still work but in a degraded version that might require more space on your disk. This warning can be disabled by setting the `HF_HUB_DISABLE_SYMLINKS_WARNING` environment variable. For more details, see https://huggingface.co/docs/huggingface_hub/how-to-cache#limitations.\n",
      "To support symlinks on Windows, you either need to activate Developer Mode or to run Python as an administrator. In order to activate developer mode, see this article: https://docs.microsoft.com/en-us/windows/apps/get-started/enable-your-device-for-development\n",
      "  warnings.warn(message)\n"
     ]
    },
    {
     "data": {
      "application/vnd.jupyter.widget-view+json": {
       "model_id": "9154e13a162043b4b4b86872872f0ed5",
       "version_major": 2,
       "version_minor": 0
      },
      "text/plain": [
       "pytorch_model.bin:   0%|          | 0.00/24.2G [00:00<?, ?B/s]"
      ]
     },
     "metadata": {},
     "output_type": "display_data"
    },
    {
     "name": "stderr",
     "output_type": "stream",
     "text": [
      "Error while downloading from https://cdn-lfs.hf.co/EleutherAI/gpt-j-6B/0e183edc2025ecfdba4429ba43c960224103b3c3dc26616503cdc2158a3d6c93?response-content-disposition=inline%3B+filename*%3DUTF-8%27%27pytorch_model.bin%3B+filename%3D%22pytorch_model.bin%22%3B&response-content-type=application%2Foctet-stream&Expires=1729159914&Policy=eyJTdGF0ZW1lbnQiOlt7IkNvbmRpdGlvbiI6eyJEYXRlTGVzc1RoYW4iOnsiQVdTOkVwb2NoVGltZSI6MTcyOTE1OTkxNH19LCJSZXNvdXJjZSI6Imh0dHBzOi8vY2RuLWxmcy5oZi5jby9FbGV1dGhlckFJL2dwdC1qLTZCLzBlMTgzZWRjMjAyNWVjZmRiYTQ0MjliYTQzYzk2MDIyNDEwM2IzYzNkYzI2NjE2NTAzY2RjMjE1OGEzZDZjOTM%7EcmVzcG9uc2UtY29udGVudC1kaXNwb3NpdGlvbj0qJnJlc3BvbnNlLWNvbnRlbnQtdHlwZT0qIn1dfQ__&Signature=uc8HaF-1cIxCgRj9uJ9mlS40Kw3gA7sAd57z7vTnEzR2q-e54jZ-CFDIK5U8xlyz1CJkasE6jV6kIKaNQYxwzyMkraKxAVO4yhM0WeHP6B3w9F6kQtyKNQhzqcD0p8XILW8AI%7EP6J3Ck9kp%7E%7EJk1WgifBGLp0jRJGx8Bfkht%7ElCc3DiekZxlHxey19RgjIjsB9SCQZQTToHnTusbWZfC99aMUxl9t3Dsiw1fELiDDG2O%7EFwaB-vMgkgWdlHah-OnFkl5udDCjfdR3hnfhkE2MAZ2eD4ffM0RpuVVvH9AYf%7EUyguOYgyhO%7EaQJCtW9OxOiG0J7M4DDKeK6OQ7jESjMA__&Key-Pair-Id=K3RPWS32NSSJCE: HTTPSConnectionPool(host='cdn-lfs.hf.co', port=443): Read timed out.\n",
      "Trying to resume download...\n"
     ]
    },
    {
     "data": {
      "application/vnd.jupyter.widget-view+json": {
       "model_id": "b56f2bf2ce9c4b699407a58d2d80ed0c",
       "version_major": 2,
       "version_minor": 0
      },
      "text/plain": [
       "pytorch_model.bin:   5%|5         | 1.23G/24.2G [00:00<?, ?B/s]"
      ]
     },
     "metadata": {},
     "output_type": "display_data"
    }
   ],
   "source": [
    "# Definir el nombre del modelo\n",
    "model_name = \"EleutherAI/gpt-j-6B\"\n",
    "\n",
    "# Cargar el modelo y el tokenizador\n",
    "model = AutoModelForCausalLM.from_pretrained(model_name)\n",
    "tokenizer = AutoTokenizer.from_pretrained(model_name)"
   ]
  },
  {
   "cell_type": "code",
   "execution_count": null,
   "metadata": {},
   "outputs": [],
   "source": [
    "# Función para obtener la respuesta del chatbot\n",
    "def get_chatbot_response(user_message, max_length=150, temperature=0.7):\n",
    "    # Preparar el input para el modelo\n",
    "    inputs = tokenizer(user_message, return_tensors=\"pt\")\n",
    "    \n",
    "    # Generar la respuesta con el modelo\n",
    "    output = model.generate(\n",
    "        inputs.input_ids, \n",
    "        max_length=max_length, \n",
    "        temperature=temperature,\n",
    "        pad_token_id=tokenizer.eos_token_id\n",
    "    )\n",
    "    \n",
    "    # Decodificar la respuesta generada\n",
    "    response = tokenizer.decode(output[0], skip_special_tokens=True)\n",
    "    return response"
   ]
  },
  {
   "cell_type": "code",
   "execution_count": null,
   "metadata": {},
   "outputs": [],
   "source": [
    "# Ejemplo de consulta del usuario\n",
    "user_query = \"¿Cuál es el estado de mi pedido #12345?\"\n",
    "response = get_chatbot_response(user_query)\n",
    "print(f\"Chatbot: {response}\")"
   ]
  },
  {
   "cell_type": "code",
   "execution_count": null,
   "metadata": {},
   "outputs": [],
   "source": [
    "# Probar el chatbot con diferentes configuraciones de temperature y max_length\n",
    "user_query = \"¿Puedes recomendarme algunos laptops para gaming?\"\n",
    "response = get_chatbot_response(user_query, temperature=0.9, max_length=200)\n",
    "print(f\"Chatbot (respuesta creativa): {response}\")"
   ]
  },
  {
   "cell_type": "markdown",
   "metadata": {},
   "source": [
    "### Conclusiones\n",
    "En este notebook hemos implementado un chatbot de atención al cliente utilizando modelos open-source como GPT-J. Hemos experimentado con diferentes configuraciones del modelo y explorado cómo los parámetros afectan las respuestas.\n",
    "\n",
    "Puedes seguir ajustando estos parámetros o probar diferentes modelos de Hugging Face según las necesidades específicas de tu chatbot.\n"
   ]
  },
  {
   "cell_type": "code",
   "execution_count": null,
   "metadata": {},
   "outputs": [],
   "source": [
    "# Crear el código del notebook en formato JSON para guardarlo como archivo .ipynb\n",
    "\n",
    "notebook_content = {\n",
    " \"cells\": [\n",
    "  {\n",
    "   \"cell_type\": \"markdown\",\n",
    "   \"metadata\": {},\n",
    "   \"source\": [\n",
    "    \"# Chatbot de Soporte al Cliente con Modelos Open-Source\\n\",\n",
    "    \"\\n\",\n",
    "    \"Este notebook implementa un chatbot de atención al cliente utilizando un modelo open-source de Hugging Face, como GPT-J o LLaMA. El chatbot puede responder preguntas comunes sobre pedidos, productos y políticas de la empresa.\"\n",
    "   ]\n",
    "  },\n",
    "  {\n",
    "   \"cell_type\": \"code\",\n",
    "   \"execution_count\": 1,\n",
    "   \"metadata\": {},\n",
    "   \"outputs\": [],\n",
    "   \"source\": [\n",
    "    \"# Instala las librerías necesarias: transformers y torch\\n\",\n",
    "    \"!pip install transformers torch\"\n",
    "   ]\n",
    "  },\n",
    "  {\n",
    "   \"cell_type\": \"code\",\n",
    "   \"execution_count\": 2,\n",
    "   \"metadata\": {},\n",
    "   \"outputs\": [],\n",
    "   \"source\": [\n",
    "    \"from transformers import AutoModelForCausalLM, AutoTokenizer\\n\",\n",
    "    \"\\n\",\n",
    "    \"# Definir el nombre del modelo\\n\",\n",
    "    \"model_name = \\\"EleutherAI/gpt-j-6B\\\"  # También puedes cambiar por otro modelo como 'meta-llama/Llama-2-7b'\\n\",\n",
    "    \"\\n\",\n",
    "    \"# Cargar el modelo y el tokenizador\\n\",\n",
    "    \"model = AutoModelForCausalLM.from_pretrained(model_name)\\n\",\n",
    "    \"tokenizer = AutoTokenizer.from_pretrained(model_name)\"\n",
    "   ]\n",
    "  },\n",
    "  {\n",
    "   \"cell_type\": \"code\",\n",
    "   \"execution_count\": 3,\n",
    "   \"metadata\": {},\n",
    "   \"outputs\": [],\n",
    "   \"source\": [\n",
    "    \"import torch\\n\",\n",
    "    \"\\n\",\n",
    "    \"# Función para obtener la respuesta del chatbot\\n\",\n",
    "    \"def get_chatbot_response(user_message, max_length=150, temperature=0.7):\\n\",\n",
    "    \"    # Preparar el input para el modelo\\n\",\n",
    "    \"    inputs = tokenizer(user_message, return_tensors=\\\"pt\\\")\\n\",\n",
    "    \"    \\n\",\n",
    "    \"    # Generar la respuesta con el modelo\\n\",\n",
    "    \"    output = model.generate(\\n\",\n",
    "    \"        inputs.input_ids, \\n\",\n",
    "    \"        max_length=max_length, \\n\",\n",
    "    \"        temperature=temperature,\\n\",\n",
    "    \"        pad_token_id=tokenizer.eos_token_id\\n\",\n",
    "    \"    )\\n\",\n",
    "    \"    \\n\",\n",
    "    \"    # Decodificar la respuesta generada\\n\",\n",
    "    \"    response = tokenizer.decode(output[0], skip_special_tokens=True)\\n\",\n",
    "    \"    return response\"\n",
    "   ]\n",
    "  },\n",
    "  {\n",
    "   \"cell_type\": \"code\",\n",
    "   \"execution_count\": 4,\n",
    "   \"metadata\": {},\n",
    "   \"outputs\": [],\n",
    "   \"source\": [\n",
    "    \"# Ejemplo de consulta del usuario\\n\",\n",
    "    \"user_query = \\\"¿Cuál es el estado de mi pedido #12345?\\\"\\n\",\n",
    "    \"response = get_chatbot_response(user_query)\\n\",\n",
    "    \"print(f\\\"Chatbot: {response}\\\")\"\n",
    "   ]\n",
    "  },\n",
    "  {\n",
    "   \"cell_type\": \"code\",\n",
    "   \"execution_count\": 5,\n",
    "   \"metadata\": {},\n",
    "   \"outputs\": [],\n",
    "   \"source\": [\n",
    "    \"# Probar el chatbot con diferentes configuraciones de temperature y max_length\\n\",\n",
    "    \"user_query = \\\"¿Puedes recomendarme algunos laptops para gaming?\\\"\\n\",\n",
    "    \"response = get_chatbot_response(user_query, temperature=0.9, max_length=200)\\n\",\n",
    "    \"print(f\\\"Chatbot (respuesta creativa): {response}\\\")\"\n",
    "   ]\n",
    "  },\n",
    "  {\n",
    "   \"cell_type\": \"markdown\",\n",
    "   \"metadata\": {},\n",
    "   \"source\": [\n",
    "    \"### Conclusiones\\n\",\n",
    "    \"En este notebook hemos implementado un chatbot de atención al cliente utilizando modelos open-source como GPT-J. Hemos experimentado con diferentes configuraciones del modelo y explorado cómo los parámetros afectan las respuestas.\\n\",\n",
    "    \"\\n\",\n",
    "    \"Puedes seguir ajustando estos parámetros o probar diferentes modelos de Hugging Face según las necesidades específicas de tu chatbot.\"\n",
    "   ]\n",
    "  }\n",
    " ],\n",
    " \"metadata\": {\n",
    "  \"kernelspec\": {\n",
    "   \"display_name\": \"Python 3\",\n",
    "   \"language\": \"python\",\n",
    "   \"name\": \"python3\"\n",
    "  },\n",
    "  \"language_info\": {\n",
    "   \"codemirror_mode\": {\n",
    "    \"name\": \"ipython\",\n",
    "    \"version\": 3\n",
    "   },\n",
    "   \"file_extension\": \".py\",\n",
    "   \"mimetype\": \"text/x-python\",\n",
    "   \"name\": \"python\",\n",
    "   \"nbconvert_exporter\": \"python\",\n",
    "   \"version\": \"3.8.5\"\n",
    "  }\n",
    " },\n",
    " \"nbformat\": 4,\n",
    " \"nbformat_minor\": 5\n",
    "}\n",
    "\n",
    "# Guardar el contenido como archivo .ipynb\n",
    "\n",
    "notebook_filename = \"/mnt/data/chatbot_open_source.ipynb\"\n",
    "with open(notebook_filename, 'w') as f:\n",
    "    json.dump(notebook_content, f)\n",
    "\n",
    "notebook_filename"
   ]
  }
 ],
 "metadata": {
  "kernelspec": {
   "display_name": "base",
   "language": "python",
   "name": "python3"
  },
  "language_info": {
   "codemirror_mode": {
    "name": "ipython",
    "version": 3
   },
   "file_extension": ".py",
   "mimetype": "text/x-python",
   "name": "python",
   "nbconvert_exporter": "python",
   "pygments_lexer": "ipython3",
   "version": "3.11.7"
  }
 },
 "nbformat": 4,
 "nbformat_minor": 2
}
